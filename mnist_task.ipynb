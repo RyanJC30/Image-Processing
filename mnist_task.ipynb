{
 "cells": [
  {
   "cell_type": "markdown",
   "metadata": {
    "id": "4r6opegAv77K"
   },
   "source": [
    "#### Importing Libraries"
   ]
  },
  {
   "cell_type": "code",
   "execution_count": 1,
   "metadata": {},
   "outputs": [],
   "source": [
    "import numpy as np\n",
    "import matplotlib.pyplot as plt\n",
    "from sklearn.datasets import load_digits\n",
    "from sklearn.model_selection import train_test_split, GridSearchCV\n",
    "from sklearn.ensemble import RandomForestClassifier\n",
    "from sklearn.metrics import confusion_matrix, accuracy_score, precision_score, recall_score, f1_score"
   ]
  },
  {
   "cell_type": "markdown",
   "metadata": {},
   "source": [
    "#### Load the Dataset"
   ]
  },
  {
   "cell_type": "code",
   "execution_count": 2,
   "metadata": {},
   "outputs": [],
   "source": [
    "digits = load_digits()"
   ]
  },
  {
   "cell_type": "markdown",
   "metadata": {},
   "source": [
    "#### Split the training data into a training and test sets"
   ]
  },
  {
   "cell_type": "code",
   "execution_count": 3,
   "metadata": {
    "id": "2AQQkGIpv77b",
    "outputId": "c18b548f-ce18-4de4-8fbf-7e3745651825"
   },
   "outputs": [],
   "source": [
    "# Splitting data (X = data, Y = target)\n",
    "X_train, X_test, y_train, y_test = train_test_split(digits.data, digits.target, test_size=0.2, random_state=42)"
   ]
  },
  {
   "cell_type": "markdown",
   "metadata": {},
   "source": [
    "#### Train and Test Sets Explainations:\n",
    "- The X_train and y_train will be used to train the random forest model for processing\n",
    "- The X_test and y_test are used to evaluate the model's performance on unseen data to see how well the model works"
   ]
  },
  {
   "cell_type": "markdown",
   "metadata": {},
   "source": [
    "#### Random Forest Classifier"
   ]
  },
  {
   "cell_type": "code",
   "execution_count": 4,
   "metadata": {},
   "outputs": [],
   "source": [
    "random_forest_classifier = RandomForestClassifier(random_state=42)"
   ]
  },
  {
   "cell_type": "code",
   "execution_count": 5,
   "metadata": {},
   "outputs": [
    {
     "name": "stdout",
     "output_type": "stream",
     "text": [
      "bootstrap: True\n",
      "ccp_alpha: 0.0\n",
      "class_weight: None\n",
      "criterion: gini\n",
      "max_depth: None\n",
      "max_features: sqrt\n",
      "max_leaf_nodes: None\n",
      "max_samples: None\n",
      "min_impurity_decrease: 0.0\n",
      "min_samples_leaf: 1\n",
      "min_samples_split: 2\n",
      "min_weight_fraction_leaf: 0.0\n",
      "n_estimators: 100\n",
      "n_jobs: None\n",
      "oob_score: False\n",
      "random_state: 42\n",
      "verbose: 0\n",
      "warm_start: False\n"
     ]
    }
   ],
   "source": [
    "# Create an instance of RandomForestClassifier\n",
    "clf = RandomForestClassifier(random_state=42)\n",
    "\n",
    "# Get all parameter details\n",
    "params = clf.get_params()\n",
    "\n",
    "# Print the parameters and their values\n",
    "for key, value in params.items():\n",
    "    print(f\"{key}: {value}\")"
   ]
  },
  {
   "cell_type": "markdown",
   "metadata": {},
   "source": [
    "#### Max Depth Parameter\n",
    "Max depth controls the depth of decision trees in a Random Forest and helps prevent overfitting as well as improves generalization this helps the model become more balanced."
   ]
  },
  {
   "cell_type": "code",
   "execution_count": 6,
   "metadata": {},
   "outputs": [
    {
     "name": "stdout",
     "output_type": "stream",
     "text": [
      "Best max_depth: None\n"
     ]
    }
   ],
   "source": [
    "# Max_depth range of values to search through\n",
    "param_grid = {'max_depth': [None, 10, 20, 30, 40]}\n",
    "\n",
    "# Best max_depth calculated by creating a GridSearchCV object\n",
    "grid_search = GridSearchCV(estimator=random_forest_classifier, param_grid=param_grid, cv=5, scoring='accuracy')\n",
    "\n",
    "# GridSearchCV object fitted to the training data\n",
    "grid_search.fit(X_train, y_train)\n",
    "\n",
    "# Best value for max_depth\n",
    "best_max_depth = grid_search.best_params_['max_depth']\n",
    "print(f\"Best max_depth: {best_max_depth}\")"
   ]
  },
  {
   "cell_type": "markdown",
   "metadata": {},
   "source": [
    "#### Max Depth (None) value\n",
    "The Value None enables the model to capture patterns in the data that are complex. By not restricting the tree depth, the model can adapt to patterns and variations in the MNIST dataset, This improves its ability to generalize and perform well on both training and test data."
   ]
  },
  {
   "cell_type": "code",
   "execution_count": 7,
   "metadata": {},
   "outputs": [
    {
     "name": "stdout",
     "output_type": "stream",
     "text": [
      "Accuracy with best max_depth: 0.9722222222222222\n"
     ]
    }
   ],
   "source": [
    "# Training a Random Forest Classifier with the best max_depth \n",
    "best_random_forest_classifier = RandomForestClassifier(max_depth=best_max_depth, random_state=42)\n",
    "best_random_forest_classifier.fit(X_train, y_train)\n",
    "\n",
    "# Make predictions on the test data\n",
    "y_pred = best_random_forest_classifier.predict(X_test)\n",
    "\n",
    "# Evaluate the model's performance (e.g., accuracy)\n",
    "accuracy = accuracy_score(y_test, y_pred)\n",
    "print(f\"Accuracy with best max_depth: {accuracy}\")"
   ]
  },
  {
   "cell_type": "markdown",
   "metadata": {},
   "source": [
    "#### Confusion Matrix"
   ]
  },
  {
   "cell_type": "code",
   "execution_count": 8,
   "metadata": {},
   "outputs": [
    {
     "name": "stdout",
     "output_type": "stream",
     "text": [
      "Confusion Matrix:\n",
      "\n",
      "Digit 0: [32  0  0  0  1  0  0  0  0  0]\n",
      "Digit 1: [ 0 28  0  0  0  0  0  0  0  0]\n",
      "Digit 2: [ 0  0 33  0  0  0  0  0  0  0]\n",
      "Digit 3: [ 0  0  0 32  0  1  0  0  1  0]\n",
      "Digit 4: [ 0  0  0  0 46  0  0  0  0  0]\n",
      "Digit 5: [ 0  0  0  0  0 45  1  0  0  1]\n",
      "Digit 6: [ 0  0  0  0  0  1 34  0  0  0]\n",
      "Digit 7: [ 0  0  0  0  0  0  0 33  0  1]\n",
      "Digit 8: [ 0  1  0  0  0  0  0  0 29  0]\n",
      "Digit 9: [ 0  0  0  0  0  1  0  1  0 38]\n"
     ]
    }
   ],
   "source": [
    "# Confusion matrix\n",
    "conf_matrix = confusion_matrix(y_test, y_pred)\n",
    "\n",
    "# Labeling confusion matrix for easier processing\n",
    "digit_labels = [0, 1, 2, 3, 4, 5, 6, 7, 8, 9]\n",
    "\n",
    "print(\"Confusion Matrix:\\n\")\n",
    "\n",
    "# Enumerate through the confusion matrix and label the rows and columns\n",
    "for i, row in enumerate(conf_matrix):\n",
    "    digit = digit_labels[i]\n",
    "    print(f\"Digit {digit}: {row}\")"
   ]
  },
  {
   "cell_type": "markdown",
   "metadata": {},
   "source": [
    "####  Classes that struggle the most\n",
    "\n",
    "- Digits (3,5 & 9) struggles the most as they have 2 classifications each that were wrong\n",
    "- Digits (1,6,7 & 8) have 1 classification each that were wrong"
   ]
  },
  {
   "cell_type": "markdown",
   "metadata": {},
   "source": [
    "#### Report on (Accuracy, Precision, Recall, and f1-score)"
   ]
  },
  {
   "cell_type": "code",
   "execution_count": 9,
   "metadata": {},
   "outputs": [
    {
     "name": "stdout",
     "output_type": "stream",
     "text": [
      "Report:\n",
      "\n",
      "Accuracy: 0.9722222222222222\n",
      "Precision: 0.9740424119023985\n",
      "Recall: 0.9727003722185199\n",
      "F1-Score: 0.9732067700933176\n"
     ]
    }
   ],
   "source": [
    "# Accuracy, precision, recall, and F1-score calculations\n",
    "accuracy = accuracy_score(y_test, y_pred)\n",
    "precision = precision_score(y_test, y_pred, average='macro')\n",
    "recall = recall_score(y_test, y_pred, average='macro')\n",
    "f1 = f1_score(y_test, y_pred, average='macro')\n",
    "\n",
    "# Report\n",
    "print(\"Report:\\n\")\n",
    "print(f\"Accuracy: {accuracy}\")\n",
    "print(f\"Precision: {precision}\")\n",
    "print(f\"Recall: {recall}\")\n",
    "print(f\"F1-Score: {f1}\")"
   ]
  }
 ],
 "metadata": {
  "colab": {
   "provenance": []
  },
  "kernelspec": {
   "display_name": "Python 3 (ipykernel)",
   "language": "python",
   "name": "python3"
  },
  "language_info": {
   "codemirror_mode": {
    "name": "ipython",
    "version": 3
   },
   "file_extension": ".py",
   "mimetype": "text/x-python",
   "name": "python",
   "nbconvert_exporter": "python",
   "pygments_lexer": "ipython3",
   "version": "3.11.4"
  }
 },
 "nbformat": 4,
 "nbformat_minor": 1
}
